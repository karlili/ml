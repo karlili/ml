{
  "nbformat": 4,
  "nbformat_minor": 0,
  "metadata": {
    "colab": {
      "name": "Distinguish Flowers",
      "version": "0.3.2",
      "provenance": [],
      "collapsed_sections": [],
      "include_colab_link": true
    },
    "kernelspec": {
      "name": "python3",
      "display_name": "Python 3"
    }
  },
  "cells": [
    {
      "cell_type": "markdown",
      "metadata": {
        "id": "view-in-github",
        "colab_type": "text"
      },
      "source": [
        "[View in Colaboratory](https://colab.research.google.com/github/karlili/ml/blob/master/Distinguish_Flowers.ipynb)"
      ]
    },
    {
      "metadata": {
        "id": "uboabUNtwyAR",
        "colab_type": "code",
        "colab": {
          "base_uri": "https://localhost:8080/",
          "height": 34
        },
        "outputId": "cf5a545a-2512-493f-f2ec-210ab1919c81"
      },
      "cell_type": "code",
      "source": [
        "import tensorflow as tf\n",
        "import numpy as np\n",
        "import os\n",
        "import urllib\n",
        "import pandas as pd\n",
        "import matplotlib.pyplot as plt \n",
        "print (tf.__version__)"
      ],
      "execution_count": 15,
      "outputs": [
        {
          "output_type": "stream",
          "text": [
            "1.9.0-rc1\n"
          ],
          "name": "stdout"
        }
      ]
    },
    {
      "metadata": {
        "id": "Hkf9Xivmj-hJ",
        "colab_type": "code",
        "colab": {
          "base_uri": "https://localhost:8080/",
          "height": 391
        },
        "outputId": "e256ecaa-fec9-46e7-8092-3f582c3933bd"
      },
      "cell_type": "code",
      "source": [
        "#IRIS_TRAINING_URL = \"http://download.tensorflow.org/data/iris_training.csv\"\n",
        "#IRIS_TEST_URL = \"http://download.tensorflow.org/data/iris_test.csv\"\n",
        "\n",
        "!wget http://download.tensorflow.org/data/iris_training.csv -P ./\n",
        "!wget http://download.tensorflow.org/data/iris_test.csv -P ./"
      ],
      "execution_count": 3,
      "outputs": [
        {
          "output_type": "stream",
          "text": [
            "--2018-06-29 13:14:45--  http://download.tensorflow.org/data/iris_training.csv\n",
            "Resolving download.tensorflow.org (download.tensorflow.org)... 173.194.209.128, 2607:f8b0:400c:c0e::80\n",
            "Connecting to download.tensorflow.org (download.tensorflow.org)|173.194.209.128|:80... connected.\n",
            "HTTP request sent, awaiting response... 200 OK\n",
            "Length: 2194 (2.1K) [text/csv]\n",
            "Saving to: ‘./iris_training.csv’\n",
            "\n",
            "iris_training.csv   100%[===================>]   2.14K  --.-KB/s    in 0s      \n",
            "\n",
            "2018-06-29 13:14:45 (273 MB/s) - ‘./iris_training.csv’ saved [2194/2194]\n",
            "\n",
            "--2018-06-29 13:14:46--  http://download.tensorflow.org/data/iris_test.csv\n",
            "Resolving download.tensorflow.org (download.tensorflow.org)... 173.194.209.128, 2607:f8b0:400c:c0e::80\n",
            "Connecting to download.tensorflow.org (download.tensorflow.org)|173.194.209.128|:80... connected.\n",
            "HTTP request sent, awaiting response... 200 OK\n",
            "Length: 573 [text/csv]\n",
            "Saving to: ‘./iris_test.csv’\n",
            "\n",
            "iris_test.csv       100%[===================>]     573  --.-KB/s    in 0s      \n",
            "\n",
            "2018-06-29 13:14:47 (87.2 MB/s) - ‘./iris_test.csv’ saved [573/573]\n",
            "\n"
          ],
          "name": "stdout"
        }
      ]
    },
    {
      "metadata": {
        "id": "p4E_4EvGl0uA",
        "colab_type": "code",
        "colab": {
          "base_uri": "https://localhost:8080/",
          "height": 238
        },
        "outputId": "fc8389d4-9f1e-4f78-df7d-596bc9ee7b46"
      },
      "cell_type": "code",
      "source": [
        "#Checking over the current directory\n",
        "!ls -la\n",
        "!pwd"
      ],
      "execution_count": 16,
      "outputs": [
        {
          "output_type": "stream",
          "text": [
            "total 44\r\n",
            "drwxr-xr-x 1 root root 4096 Jun 29 13:14 .\r\n",
            "drwxr-xr-x 1 root root 4096 Jun 29 12:47 ..\r\n",
            "drwx------ 4 root root 4096 Jun 29 12:48 .cache\r\n",
            "drwxr-xr-x 3 root root 4096 Jun 29 12:48 .config\r\n",
            "drwxr-xr-x 3 root root 4096 Jun 25 16:59 datalab\r\n",
            "drwxr-xr-x 4 root root 4096 Jun 29 12:48 .forever\r\n",
            "drwxr-xr-x 5 root root 4096 Jun 29 12:48 .ipython\r\n",
            "-rw-r--r-- 1 root root  573 Jun 24  2016 iris_test.csv\r\n",
            "-rw-r--r-- 1 root root 2194 Jun 24  2016 iris_training.csv\r\n",
            "drwxr-xr-x 2 root root 4096 Jun 29 13:14 .keras\r\n",
            "drwx------ 3 root root 4096 Jun 29 12:48 .local\n",
            "/content\n"
          ],
          "name": "stdout"
        }
      ]
    },
    {
      "metadata": {
        "id": "CXHC6AVBxGHl",
        "colab_type": "code",
        "colab": {
          "base_uri": "https://localhost:8080/",
          "height": 2057
        },
        "outputId": "e2c5bc9e-8d55-4347-f085-715da1000c39"
      },
      "cell_type": "code",
      "source": [
        "#Loading data from the tensorflow built in dataset\n",
        "\n",
        "\n",
        "IRIS_TRAINING = \"./iris_training.csv\"\n",
        "IRIS_TEST = \"./iris_test.csv\"\n",
        "\n",
        "\n",
        "training_set = tf.contrib.learn.datasets.base.load_csv_with_header(\n",
        "    filename=IRIS_TRAINING,\n",
        "    target_dtype=np.int,\n",
        "    features_dtype=np.float32)\n",
        "\n",
        "test_set = tf.contrib.learn.datasets.base.load_csv_with_header(\n",
        "    filename=IRIS_TEST,\n",
        "    target_dtype=np.int,\n",
        "    features_dtype=np.float32)\n",
        "\n",
        "\n",
        "#print(training_set.data)\n",
        "#print(training_set.target)\n",
        "\n",
        "#Read the CSV directly\n",
        "df=pd.read_csv(IRIS_TRAINING, sep=',',header=0)\n",
        "df.values\n",
        "\n",
        "#Printing out Training Set Data\n",
        "#pd.DataFrame(training_set.data)\n",
        "\n",
        "#Printing out Testing Set Data\n",
        "#pd.DataFrame(test_set.data)\n"
      ],
      "execution_count": 14,
      "outputs": [
        {
          "output_type": "execute_result",
          "data": {
            "text/plain": [
              "array([[6.4, 2.8, 5.6, 2.2, 2. ],\n",
              "       [5. , 2.3, 3.3, 1. , 1. ],\n",
              "       [4.9, 2.5, 4.5, 1.7, 2. ],\n",
              "       [4.9, 3.1, 1.5, 0.1, 0. ],\n",
              "       [5.7, 3.8, 1.7, 0.3, 0. ],\n",
              "       [4.4, 3.2, 1.3, 0.2, 0. ],\n",
              "       [5.4, 3.4, 1.5, 0.4, 0. ],\n",
              "       [6.9, 3.1, 5.1, 2.3, 2. ],\n",
              "       [6.7, 3.1, 4.4, 1.4, 1. ],\n",
              "       [5.1, 3.7, 1.5, 0.4, 0. ],\n",
              "       [5.2, 2.7, 3.9, 1.4, 1. ],\n",
              "       [6.9, 3.1, 4.9, 1.5, 1. ],\n",
              "       [5.8, 4. , 1.2, 0.2, 0. ],\n",
              "       [5.4, 3.9, 1.7, 0.4, 0. ],\n",
              "       [7.7, 3.8, 6.7, 2.2, 2. ],\n",
              "       [6.3, 3.3, 4.7, 1.6, 1. ],\n",
              "       [6.8, 3.2, 5.9, 2.3, 2. ],\n",
              "       [7.6, 3. , 6.6, 2.1, 2. ],\n",
              "       [6.4, 3.2, 5.3, 2.3, 2. ],\n",
              "       [5.7, 4.4, 1.5, 0.4, 0. ],\n",
              "       [6.7, 3.3, 5.7, 2.1, 2. ],\n",
              "       [6.4, 2.8, 5.6, 2.1, 2. ],\n",
              "       [5.4, 3.9, 1.3, 0.4, 0. ],\n",
              "       [6.1, 2.6, 5.6, 1.4, 2. ],\n",
              "       [7.2, 3. , 5.8, 1.6, 2. ],\n",
              "       [5.2, 3.5, 1.5, 0.2, 0. ],\n",
              "       [5.8, 2.6, 4. , 1.2, 1. ],\n",
              "       [5.9, 3. , 5.1, 1.8, 2. ],\n",
              "       [5.4, 3. , 4.5, 1.5, 1. ],\n",
              "       [6.7, 3. , 5. , 1.7, 1. ],\n",
              "       [6.3, 2.3, 4.4, 1.3, 1. ],\n",
              "       [5.1, 2.5, 3. , 1.1, 1. ],\n",
              "       [6.4, 3.2, 4.5, 1.5, 1. ],\n",
              "       [6.8, 3. , 5.5, 2.1, 2. ],\n",
              "       [6.2, 2.8, 4.8, 1.8, 2. ],\n",
              "       [6.9, 3.2, 5.7, 2.3, 2. ],\n",
              "       [6.5, 3.2, 5.1, 2. , 2. ],\n",
              "       [5.8, 2.8, 5.1, 2.4, 2. ],\n",
              "       [5.1, 3.8, 1.5, 0.3, 0. ],\n",
              "       [4.8, 3. , 1.4, 0.3, 0. ],\n",
              "       [7.9, 3.8, 6.4, 2. , 2. ],\n",
              "       [5.8, 2.7, 5.1, 1.9, 2. ],\n",
              "       [6.7, 3. , 5.2, 2.3, 2. ],\n",
              "       [5.1, 3.8, 1.9, 0.4, 0. ],\n",
              "       [4.7, 3.2, 1.6, 0.2, 0. ],\n",
              "       [6. , 2.2, 5. , 1.5, 2. ],\n",
              "       [4.8, 3.4, 1.6, 0.2, 0. ],\n",
              "       [7.7, 2.6, 6.9, 2.3, 2. ],\n",
              "       [4.6, 3.6, 1. , 0.2, 0. ],\n",
              "       [7.2, 3.2, 6. , 1.8, 2. ],\n",
              "       [5. , 3.3, 1.4, 0.2, 0. ],\n",
              "       [6.6, 3. , 4.4, 1.4, 1. ],\n",
              "       [6.1, 2.8, 4. , 1.3, 1. ],\n",
              "       [5. , 3.2, 1.2, 0.2, 0. ],\n",
              "       [7. , 3.2, 4.7, 1.4, 1. ],\n",
              "       [6. , 3. , 4.8, 1.8, 2. ],\n",
              "       [7.4, 2.8, 6.1, 1.9, 2. ],\n",
              "       [5.8, 2.7, 5.1, 1.9, 2. ],\n",
              "       [6.2, 3.4, 5.4, 2.3, 2. ],\n",
              "       [5. , 2. , 3.5, 1. , 1. ],\n",
              "       [5.6, 2.5, 3.9, 1.1, 1. ],\n",
              "       [6.7, 3.1, 5.6, 2.4, 2. ],\n",
              "       [6.3, 2.5, 5. , 1.9, 2. ],\n",
              "       [6.4, 3.1, 5.5, 1.8, 2. ],\n",
              "       [6.2, 2.2, 4.5, 1.5, 1. ],\n",
              "       [7.3, 2.9, 6.3, 1.8, 2. ],\n",
              "       [4.4, 3. , 1.3, 0.2, 0. ],\n",
              "       [7.2, 3.6, 6.1, 2.5, 2. ],\n",
              "       [6.5, 3. , 5.5, 1.8, 2. ],\n",
              "       [5. , 3.4, 1.5, 0.2, 0. ],\n",
              "       [4.7, 3.2, 1.3, 0.2, 0. ],\n",
              "       [6.6, 2.9, 4.6, 1.3, 1. ],\n",
              "       [5.5, 3.5, 1.3, 0.2, 0. ],\n",
              "       [7.7, 3. , 6.1, 2.3, 2. ],\n",
              "       [6.1, 3. , 4.9, 1.8, 2. ],\n",
              "       [4.9, 3.1, 1.5, 0.1, 0. ],\n",
              "       [5.5, 2.4, 3.8, 1.1, 1. ],\n",
              "       [5.7, 2.9, 4.2, 1.3, 1. ],\n",
              "       [6. , 2.9, 4.5, 1.5, 1. ],\n",
              "       [6.4, 2.7, 5.3, 1.9, 2. ],\n",
              "       [5.4, 3.7, 1.5, 0.2, 0. ],\n",
              "       [6.1, 2.9, 4.7, 1.4, 1. ],\n",
              "       [6.5, 2.8, 4.6, 1.5, 1. ],\n",
              "       [5.6, 2.7, 4.2, 1.3, 1. ],\n",
              "       [6.3, 3.4, 5.6, 2.4, 2. ],\n",
              "       [4.9, 3.1, 1.5, 0.1, 0. ],\n",
              "       [6.8, 2.8, 4.8, 1.4, 1. ],\n",
              "       [5.7, 2.8, 4.5, 1.3, 1. ],\n",
              "       [6. , 2.7, 5.1, 1.6, 1. ],\n",
              "       [5. , 3.5, 1.3, 0.3, 0. ],\n",
              "       [6.5, 3. , 5.2, 2. , 2. ],\n",
              "       [6.1, 2.8, 4.7, 1.2, 1. ],\n",
              "       [5.1, 3.5, 1.4, 0.3, 0. ],\n",
              "       [4.6, 3.1, 1.5, 0.2, 0. ],\n",
              "       [6.5, 3. , 5.8, 2.2, 2. ],\n",
              "       [4.6, 3.4, 1.4, 0.3, 0. ],\n",
              "       [4.6, 3.2, 1.4, 0.2, 0. ],\n",
              "       [7.7, 2.8, 6.7, 2. , 2. ],\n",
              "       [5.9, 3.2, 4.8, 1.8, 1. ],\n",
              "       [5.1, 3.8, 1.6, 0.2, 0. ],\n",
              "       [4.9, 3. , 1.4, 0.2, 0. ],\n",
              "       [4.9, 2.4, 3.3, 1. , 1. ],\n",
              "       [4.5, 2.3, 1.3, 0.3, 0. ],\n",
              "       [5.8, 2.7, 4.1, 1. , 1. ],\n",
              "       [5. , 3.4, 1.6, 0.4, 0. ],\n",
              "       [5.2, 3.4, 1.4, 0.2, 0. ],\n",
              "       [5.3, 3.7, 1.5, 0.2, 0. ],\n",
              "       [5. , 3.6, 1.4, 0.2, 0. ],\n",
              "       [5.6, 2.9, 3.6, 1.3, 1. ],\n",
              "       [4.8, 3.1, 1.6, 0.2, 0. ],\n",
              "       [6.3, 2.7, 4.9, 1.8, 2. ],\n",
              "       [5.7, 2.8, 4.1, 1.3, 1. ],\n",
              "       [5. , 3. , 1.6, 0.2, 0. ],\n",
              "       [6.3, 3.3, 6. , 2.5, 2. ],\n",
              "       [5. , 3.5, 1.6, 0.6, 0. ],\n",
              "       [5.5, 2.6, 4.4, 1.2, 1. ],\n",
              "       [5.7, 3. , 4.2, 1.2, 1. ],\n",
              "       [4.4, 2.9, 1.4, 0.2, 0. ],\n",
              "       [4.8, 3. , 1.4, 0.1, 0. ],\n",
              "       [5.5, 2.4, 3.7, 1. , 1. ]])"
            ]
          },
          "metadata": {
            "tags": []
          },
          "execution_count": 14
        }
      ]
    },
    {
      "metadata": {
        "id": "l8hI4fL-ml1H",
        "colab_type": "code",
        "colab": {
          "base_uri": "https://localhost:8080/",
          "height": 71
        },
        "outputId": "12189777-fb38-477b-d00b-399d681f711e"
      },
      "cell_type": "code",
      "source": [
        "feature_name = \"flower_features\"\n",
        "feature_columns = [tf.feature_column.numeric_column(feature_name, shape=[4])]\n",
        "\n",
        "classifier = tf.estimator.LinearClassifier(\n",
        "    feature_columns=feature_columns, \n",
        "    n_classes=3,\n",
        "    model_dir=\"./iris_model\")"
      ],
      "execution_count": 23,
      "outputs": [
        {
          "output_type": "stream",
          "text": [
            "INFO:tensorflow:Using default config.\n",
            "INFO:tensorflow:Using config: {'_model_dir': './iris_model', '_tf_random_seed': None, '_save_summary_steps': 100, '_save_checkpoints_steps': None, '_save_checkpoints_secs': 600, '_session_config': None, '_keep_checkpoint_max': 5, '_keep_checkpoint_every_n_hours': 10000, '_log_step_count_steps': 100, '_train_distribute': None, '_device_fn': None, '_service': None, '_cluster_spec': <tensorflow.python.training.server_lib.ClusterSpec object at 0x7fdc44ee4630>, '_task_type': 'worker', '_task_id': 0, '_global_id_in_cluster': 0, '_master': '', '_evaluation_master': '', '_is_chief': True, '_num_ps_replicas': 0, '_num_worker_replicas': 1}\n"
          ],
          "name": "stdout"
        }
      ]
    },
    {
      "metadata": {
        "id": "H-51ehSmnBpG",
        "colab_type": "code",
        "colab": {
          "base_uri": "https://localhost:8080/",
          "height": 54
        },
        "outputId": "dd3cfbe0-1402-417c-df54-098e93f7fabe"
      },
      "cell_type": "code",
      "source": [
        "#Create the input function to get the data into the training\n",
        "def input_fn(dataset):\n",
        "  def _fn():\n",
        "    features = {feature_name: tf.constant(dataset.data)}\n",
        "    label = tf.constant(dataset.target)\n",
        "    return features, label\n",
        "  return _fn\n",
        "\n",
        "print(input_fn(training_set)())\n",
        "#raw data -> input function -> feature columns -> model"
      ],
      "execution_count": 24,
      "outputs": [
        {
          "output_type": "stream",
          "text": [
            "({'flower_features': <tf.Tensor 'Const_2:0' shape=(120, 4) dtype=float32>}, <tf.Tensor 'Const_3:0' shape=(120,) dtype=int64>)\n"
          ],
          "name": "stdout"
        }
      ]
    },
    {
      "metadata": {
        "id": "OhIx8V1Hnm2Q",
        "colab_type": "code",
        "colab": {
          "base_uri": "https://localhost:8080/",
          "height": 1887
        },
        "outputId": "c100baaa-4a8b-4001-b26a-40b878d94276"
      },
      "cell_type": "code",
      "source": [
        "#Train the model\n",
        "classifier.train(input_fn=input_fn(training_set),\n",
        "               steps=5000)\n",
        "\n",
        "print(\"Training completed\")"
      ],
      "execution_count": 29,
      "outputs": [
        {
          "output_type": "stream",
          "text": [
            "INFO:tensorflow:Calling model_fn.\n",
            "INFO:tensorflow:Done calling model_fn.\n",
            "INFO:tensorflow:Create CheckpointSaverHook.\n",
            "INFO:tensorflow:Graph was finalized.\n",
            "INFO:tensorflow:Restoring parameters from ./iris_model/model.ckpt-2000\n",
            "INFO:tensorflow:Running local_init_op.\n",
            "INFO:tensorflow:Done running local_init_op.\n",
            "INFO:tensorflow:Saving checkpoints for 2000 into ./iris_model/model.ckpt.\n",
            "INFO:tensorflow:loss = 9.8182745, step = 2001\n",
            "INFO:tensorflow:global_step/sec: 620.519\n",
            "INFO:tensorflow:loss = 9.640682, step = 2101 (0.163 sec)\n",
            "INFO:tensorflow:global_step/sec: 1574.94\n",
            "INFO:tensorflow:loss = 9.476524, step = 2201 (0.063 sec)\n",
            "INFO:tensorflow:global_step/sec: 1535.8\n",
            "INFO:tensorflow:loss = 9.324242, step = 2301 (0.065 sec)\n",
            "INFO:tensorflow:global_step/sec: 1557.84\n",
            "INFO:tensorflow:loss = 9.182509, step = 2401 (0.064 sec)\n",
            "INFO:tensorflow:global_step/sec: 1426.37\n",
            "INFO:tensorflow:loss = 9.050201, step = 2501 (0.071 sec)\n",
            "INFO:tensorflow:global_step/sec: 1560.35\n",
            "INFO:tensorflow:loss = 8.926349, step = 2601 (0.063 sec)\n",
            "INFO:tensorflow:global_step/sec: 1606.09\n",
            "INFO:tensorflow:loss = 8.810113, step = 2701 (0.062 sec)\n",
            "INFO:tensorflow:global_step/sec: 1188.32\n",
            "INFO:tensorflow:loss = 8.700764, step = 2801 (0.084 sec)\n",
            "INFO:tensorflow:global_step/sec: 1527.41\n",
            "INFO:tensorflow:loss = 8.597665, step = 2901 (0.065 sec)\n",
            "INFO:tensorflow:global_step/sec: 1376.46\n",
            "INFO:tensorflow:loss = 8.500263, step = 3001 (0.073 sec)\n",
            "INFO:tensorflow:global_step/sec: 1714.63\n",
            "INFO:tensorflow:loss = 8.408061, step = 3101 (0.059 sec)\n",
            "INFO:tensorflow:global_step/sec: 1588.99\n",
            "INFO:tensorflow:loss = 8.320624, step = 3201 (0.063 sec)\n",
            "INFO:tensorflow:global_step/sec: 1467.5\n",
            "INFO:tensorflow:loss = 8.237565, step = 3301 (0.068 sec)\n",
            "INFO:tensorflow:global_step/sec: 1264.74\n",
            "INFO:tensorflow:loss = 8.15854, step = 3401 (0.079 sec)\n",
            "INFO:tensorflow:global_step/sec: 1571.92\n",
            "INFO:tensorflow:loss = 8.08324, step = 3501 (0.064 sec)\n",
            "INFO:tensorflow:global_step/sec: 1351.25\n",
            "INFO:tensorflow:loss = 8.011384, step = 3601 (0.074 sec)\n",
            "INFO:tensorflow:global_step/sec: 1339.99\n",
            "INFO:tensorflow:loss = 7.9427257, step = 3701 (0.075 sec)\n",
            "INFO:tensorflow:global_step/sec: 1217.66\n",
            "INFO:tensorflow:loss = 7.877037, step = 3801 (0.082 sec)\n",
            "INFO:tensorflow:global_step/sec: 1349.84\n",
            "INFO:tensorflow:loss = 7.8141165, step = 3901 (0.074 sec)\n",
            "INFO:tensorflow:global_step/sec: 1431.92\n",
            "INFO:tensorflow:loss = 7.7537727, step = 4001 (0.070 sec)\n",
            "INFO:tensorflow:global_step/sec: 1242.66\n",
            "INFO:tensorflow:loss = 7.6958427, step = 4101 (0.080 sec)\n",
            "INFO:tensorflow:global_step/sec: 1285.41\n",
            "INFO:tensorflow:loss = 7.6401696, step = 4201 (0.078 sec)\n",
            "INFO:tensorflow:global_step/sec: 1305.2\n",
            "INFO:tensorflow:loss = 7.586614, step = 4301 (0.077 sec)\n",
            "INFO:tensorflow:global_step/sec: 1219.16\n",
            "INFO:tensorflow:loss = 7.5350447, step = 4401 (0.082 sec)\n",
            "INFO:tensorflow:global_step/sec: 1405.81\n",
            "INFO:tensorflow:loss = 7.4853425, step = 4501 (0.071 sec)\n",
            "INFO:tensorflow:global_step/sec: 1359.12\n",
            "INFO:tensorflow:loss = 7.437401, step = 4601 (0.077 sec)\n",
            "INFO:tensorflow:global_step/sec: 1343.74\n",
            "INFO:tensorflow:loss = 7.391119, step = 4701 (0.071 sec)\n"
          ],
          "name": "stdout"
        },
        {
          "output_type": "stream",
          "text": [
            "INFO:tensorflow:global_step/sec: 1265.02\n",
            "INFO:tensorflow:loss = 7.346403, step = 4801 (0.079 sec)\n",
            "INFO:tensorflow:global_step/sec: 1453.78\n",
            "INFO:tensorflow:loss = 7.3031683, step = 4901 (0.069 sec)\n",
            "INFO:tensorflow:global_step/sec: 1441.35\n",
            "INFO:tensorflow:loss = 7.261333, step = 5001 (0.072 sec)\n",
            "INFO:tensorflow:global_step/sec: 1167.48\n",
            "INFO:tensorflow:loss = 7.2208247, step = 5101 (0.085 sec)\n",
            "INFO:tensorflow:global_step/sec: 1327.34\n",
            "INFO:tensorflow:loss = 7.1815753, step = 5201 (0.074 sec)\n",
            "INFO:tensorflow:global_step/sec: 1329.56\n",
            "INFO:tensorflow:loss = 7.1435194, step = 5301 (0.075 sec)\n",
            "INFO:tensorflow:global_step/sec: 1229.55\n",
            "INFO:tensorflow:loss = 7.1066003, step = 5401 (0.081 sec)\n",
            "INFO:tensorflow:global_step/sec: 1312.66\n",
            "INFO:tensorflow:loss = 7.0707617, step = 5501 (0.076 sec)\n",
            "INFO:tensorflow:global_step/sec: 1346.91\n",
            "INFO:tensorflow:loss = 7.035951, step = 5601 (0.074 sec)\n",
            "INFO:tensorflow:global_step/sec: 1329.33\n",
            "INFO:tensorflow:loss = 7.0021186, step = 5701 (0.075 sec)\n",
            "INFO:tensorflow:global_step/sec: 1269.37\n",
            "INFO:tensorflow:loss = 6.969224, step = 5801 (0.079 sec)\n",
            "INFO:tensorflow:global_step/sec: 1335.48\n",
            "INFO:tensorflow:loss = 6.9372196, step = 5901 (0.075 sec)\n",
            "INFO:tensorflow:global_step/sec: 1290.65\n",
            "INFO:tensorflow:loss = 6.906068, step = 6001 (0.077 sec)\n",
            "INFO:tensorflow:global_step/sec: 1201.52\n",
            "INFO:tensorflow:loss = 6.8757305, step = 6101 (0.083 sec)\n",
            "INFO:tensorflow:global_step/sec: 1260.77\n",
            "INFO:tensorflow:loss = 6.8461742, step = 6201 (0.080 sec)\n",
            "INFO:tensorflow:global_step/sec: 1452.56\n",
            "INFO:tensorflow:loss = 6.817361, step = 6301 (0.069 sec)\n",
            "INFO:tensorflow:global_step/sec: 1358.48\n",
            "INFO:tensorflow:loss = 6.7892675, step = 6401 (0.074 sec)\n",
            "INFO:tensorflow:global_step/sec: 1158.17\n",
            "INFO:tensorflow:loss = 6.761856, step = 6501 (0.086 sec)\n",
            "INFO:tensorflow:global_step/sec: 1401.19\n",
            "INFO:tensorflow:loss = 6.7351046, step = 6601 (0.071 sec)\n",
            "INFO:tensorflow:global_step/sec: 1365.2\n",
            "INFO:tensorflow:loss = 6.7089844, step = 6701 (0.073 sec)\n",
            "INFO:tensorflow:global_step/sec: 1214.28\n",
            "INFO:tensorflow:loss = 6.6834707, step = 6801 (0.082 sec)\n",
            "INFO:tensorflow:global_step/sec: 1415.1\n",
            "INFO:tensorflow:loss = 6.6585402, step = 6901 (0.071 sec)\n",
            "INFO:tensorflow:Saving checkpoints for 7000 into ./iris_model/model.ckpt.\n",
            "INFO:tensorflow:Loss for final step: 6.634411.\n",
            "Training completed\n"
          ],
          "name": "stdout"
        }
      ]
    },
    {
      "metadata": {
        "id": "424q2KrNn69M",
        "colab_type": "code",
        "colab": {
          "base_uri": "https://localhost:8080/",
          "height": 394
        },
        "outputId": "fbfa9d41-3d86-480f-cd6d-9833baa28ee4"
      },
      "cell_type": "code",
      "source": [
        "accuracy_score = classifier.evaluate(input_fn=input_fn(test_set),steps=1000)[\"accuracy\"]\n",
        "print(\"Accuracy:{0:f}\".format(accuracy_score))"
      ],
      "execution_count": 30,
      "outputs": [
        {
          "output_type": "stream",
          "text": [
            "INFO:tensorflow:Calling model_fn.\n",
            "INFO:tensorflow:Done calling model_fn.\n",
            "INFO:tensorflow:Starting evaluation at 2018-06-28-13:48:17\n",
            "INFO:tensorflow:Graph was finalized.\n",
            "INFO:tensorflow:Restoring parameters from ./iris_model/model.ckpt-7000\n",
            "INFO:tensorflow:Running local_init_op.\n",
            "INFO:tensorflow:Done running local_init_op.\n",
            "INFO:tensorflow:Evaluation [100/1000]\n",
            "INFO:tensorflow:Evaluation [200/1000]\n",
            "INFO:tensorflow:Evaluation [300/1000]\n",
            "INFO:tensorflow:Evaluation [400/1000]\n",
            "INFO:tensorflow:Evaluation [500/1000]\n",
            "INFO:tensorflow:Evaluation [600/1000]\n",
            "INFO:tensorflow:Evaluation [700/1000]\n",
            "INFO:tensorflow:Evaluation [800/1000]\n",
            "INFO:tensorflow:Evaluation [900/1000]\n",
            "INFO:tensorflow:Evaluation [1000/1000]\n",
            "INFO:tensorflow:Finished evaluation at 2018-06-28-13:48:17\n",
            "INFO:tensorflow:Saving dict for global step 7000: accuracy = 0.96666664, average_loss = 0.06288243, global_step = 7000, loss = 1.886473\n",
            "INFO:tensorflow:Saving 'checkpoint_path' summary for global step 7000: ./iris_model/model.ckpt-7000\n",
            "Accuracy:0.966667\n"
          ],
          "name": "stdout"
        }
      ]
    },
    {
      "metadata": {
        "id": "mYyF5qVaoPtx",
        "colab_type": "code",
        "colab": {}
      },
      "cell_type": "code",
      "source": [
        ""
      ],
      "execution_count": 0,
      "outputs": []
    }
  ]
}